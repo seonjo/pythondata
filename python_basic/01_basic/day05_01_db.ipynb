{
 "cells": [
  {
   "cell_type": "code",
   "execution_count": 1,
   "id": "77db37c3-b338-443c-b450-4a6ba49d8bd8",
   "metadata": {},
   "outputs": [],
   "source": [
    "def two_times(numberList):\n",
    "    result = []\n",
    "    for number in numberList:\n",
    "        result.append(number*2)\n",
    "    return result"
   ]
  },
  {
   "cell_type": "code",
   "execution_count": 2,
   "id": "38c2b09d-4705-4188-8552-a5e7675e1f4f",
   "metadata": {},
   "outputs": [],
   "source": [
    "numberList = [1,2,3,4,5]"
   ]
  },
  {
   "cell_type": "code",
   "execution_count": 3,
   "id": "0b04162e-f870-4d04-b1a7-29b8b3181aef",
   "metadata": {},
   "outputs": [
    {
     "data": {
      "text/plain": [
       "[2, 4, 6, 8, 10]"
      ]
     },
     "execution_count": 3,
     "metadata": {},
     "output_type": "execute_result"
    }
   ],
   "source": [
    "two_times(numberList)"
   ]
  },
  {
   "cell_type": "code",
   "execution_count": 4,
   "id": "0a3572df-30fc-4e52-9c07-d9228868321a",
   "metadata": {},
   "outputs": [],
   "source": [
    "def two_times(x):\n",
    "    return x*2"
   ]
  },
  {
   "cell_type": "code",
   "execution_count": 6,
   "id": "e49346a9-5182-46dc-b5f7-91048408f096",
   "metadata": {},
   "outputs": [
    {
     "data": {
      "text/plain": [
       "[2, 4, 6, 8, 10]"
      ]
     },
     "execution_count": 6,
     "metadata": {},
     "output_type": "execute_result"
    }
   ],
   "source": [
    "list(map(two_times,numberList))"
   ]
  },
  {
   "cell_type": "code",
   "execution_count": 7,
   "id": "c0a7de94-2871-4f57-aa62-77bae84a28b4",
   "metadata": {},
   "outputs": [],
   "source": [
    "names = ['홍길동','박철수','김나리']\n",
    "# 안녕하세요!       고객님~"
   ]
  },
  {
   "cell_type": "code",
   "execution_count": 8,
   "id": "2af3234b-f6ef-4cb2-a1d5-38c80e2a18c0",
   "metadata": {},
   "outputs": [],
   "source": [
    "def hello(x):\n",
    "    return '안녕하세요!' + x + '고객님~'"
   ]
  },
  {
   "cell_type": "code",
   "execution_count": 9,
   "id": "006b6728-36ab-4425-8243-5ac6331643de",
   "metadata": {},
   "outputs": [
    {
     "data": {
      "text/plain": [
       "['안녕하세요!홍길동고객님~', '안녕하세요!박철수고객님~', '안녕하세요!김나리고객님~']"
      ]
     },
     "execution_count": 9,
     "metadata": {},
     "output_type": "execute_result"
    }
   ],
   "source": [
    "list(map(hello,names))"
   ]
  },
  {
   "cell_type": "code",
   "execution_count": 18,
   "id": "43107618-1d2e-49ce-a402-80f9affb97b2",
   "metadata": {},
   "outputs": [],
   "source": [
    "names = ['홍길동','박철수','김나리']\n",
    "score = [40,50,76,45]\n",
    "score1= [50,65,89,75]"
   ]
  },
  {
   "cell_type": "code",
   "execution_count": 19,
   "id": "5815c72a-1102-4599-9e2d-e9138349dd44",
   "metadata": {},
   "outputs": [
    {
     "data": {
      "text/plain": [
       "[('홍길동', 40, 50), ('박철수', 50, 65), ('김나리', 76, 89)]"
      ]
     },
     "execution_count": 19,
     "metadata": {},
     "output_type": "execute_result"
    }
   ],
   "source": [
    "list(zip(names,score,score1))"
   ]
  },
  {
   "cell_type": "code",
   "execution_count": null,
   "id": "30c80068-2c15-472e-94e2-0a1b2d5ee0a0",
   "metadata": {},
   "outputs": [],
   "source": []
  }
 ],
 "metadata": {
  "kernelspec": {
   "display_name": "Python 3 (ipykernel)",
   "language": "python",
   "name": "python3"
  },
  "language_info": {
   "codemirror_mode": {
    "name": "ipython",
    "version": 3
   },
   "file_extension": ".py",
   "mimetype": "text/x-python",
   "name": "python",
   "nbconvert_exporter": "python",
   "pygments_lexer": "ipython3",
   "version": "3.9.12"
  }
 },
 "nbformat": 4,
 "nbformat_minor": 5
}
