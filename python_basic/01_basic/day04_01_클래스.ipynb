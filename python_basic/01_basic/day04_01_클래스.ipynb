{
 "cells": [
  {
   "cell_type": "code",
   "execution_count": 17,
   "id": "cc6249d0-70eb-4802-88b7-ee81fa9fc672",
   "metadata": {},
   "outputs": [],
   "source": [
    "class FourCal:\n",
    "    def setdata(self,first,second):\n",
    "        self.first = first\n",
    "        self.second = second\n",
    "        \n",
    "    def add(self):\n",
    "        result = self.first + self.second\n",
    "        return result"
   ]
  },
  {
   "cell_type": "code",
   "execution_count": 18,
   "id": "e53d26b3-31f6-403d-9dcc-2f30de6c15b4",
   "metadata": {},
   "outputs": [],
   "source": [
    "a = FourCal()"
   ]
  },
  {
   "cell_type": "code",
   "execution_count": 6,
   "id": "4dddc3ec-7470-4dc5-974b-3a8fbbb45eae",
   "metadata": {},
   "outputs": [
    {
     "data": {
      "text/plain": [
       "__main__.FourCal"
      ]
     },
     "execution_count": 6,
     "metadata": {},
     "output_type": "execute_result"
    }
   ],
   "source": [
    "type(a)"
   ]
  },
  {
   "cell_type": "code",
   "execution_count": 7,
   "id": "769f693b-bcd5-4b93-bebf-ceb27c450abf",
   "metadata": {},
   "outputs": [],
   "source": [
    "a.setdata(2,5)"
   ]
  },
  {
   "cell_type": "code",
   "execution_count": 8,
   "id": "47dacbeb-f054-42a1-ab34-302b5c1e912c",
   "metadata": {},
   "outputs": [
    {
     "data": {
      "text/plain": [
       "2"
      ]
     },
     "execution_count": 8,
     "metadata": {},
     "output_type": "execute_result"
    }
   ],
   "source": [
    "a.first"
   ]
  },
  {
   "cell_type": "code",
   "execution_count": 9,
   "id": "a2aaba7e-0f7a-4e53-adbe-61ca9d548248",
   "metadata": {},
   "outputs": [
    {
     "data": {
      "text/plain": [
       "5"
      ]
     },
     "execution_count": 9,
     "metadata": {},
     "output_type": "execute_result"
    }
   ],
   "source": [
    "a.second"
   ]
  },
  {
   "cell_type": "code",
   "execution_count": 10,
   "id": "ac60bb50-a487-4812-900d-d48824f0beaf",
   "metadata": {},
   "outputs": [],
   "source": [
    "a.first = 6"
   ]
  },
  {
   "cell_type": "code",
   "execution_count": 11,
   "id": "03b3c797-cea4-4db1-9bf1-353cbdb0b6a6",
   "metadata": {},
   "outputs": [
    {
     "data": {
      "text/plain": [
       "6"
      ]
     },
     "execution_count": 11,
     "metadata": {},
     "output_type": "execute_result"
    }
   ],
   "source": [
    "a.first"
   ]
  },
  {
   "cell_type": "code",
   "execution_count": 12,
   "id": "ea579261-52f0-455a-ad59-7e2ebfcbddd7",
   "metadata": {},
   "outputs": [],
   "source": [
    "b = FourCal()"
   ]
  },
  {
   "cell_type": "code",
   "execution_count": 13,
   "id": "d97a8296-0d0d-40ac-8315-bdb08c3e9b7f",
   "metadata": {},
   "outputs": [
    {
     "ename": "AttributeError",
     "evalue": "'FourCal' object has no attribute 'first'",
     "output_type": "error",
     "traceback": [
      "\u001b[1;31m---------------------------------------------------------------------------\u001b[0m",
      "\u001b[1;31mAttributeError\u001b[0m                            Traceback (most recent call last)",
      "Input \u001b[1;32mIn [13]\u001b[0m, in \u001b[0;36m<cell line: 1>\u001b[1;34m()\u001b[0m\n\u001b[1;32m----> 1\u001b[0m \u001b[43mb\u001b[49m\u001b[38;5;241;43m.\u001b[39;49m\u001b[43mfirst\u001b[49m\n",
      "\u001b[1;31mAttributeError\u001b[0m: 'FourCal' object has no attribute 'first'"
     ]
    }
   ],
   "source": [
    "b.first"
   ]
  },
  {
   "cell_type": "code",
   "execution_count": 14,
   "id": "2deb5fae-d1d5-41e8-a4f5-a795b106cb79",
   "metadata": {},
   "outputs": [],
   "source": [
    "b.setdata(9,9)"
   ]
  },
  {
   "cell_type": "code",
   "execution_count": 15,
   "id": "7fb2e3e1-54a3-44d7-a363-8589b5b59420",
   "metadata": {},
   "outputs": [
    {
     "data": {
      "text/plain": [
       "9"
      ]
     },
     "execution_count": 15,
     "metadata": {},
     "output_type": "execute_result"
    }
   ],
   "source": [
    "b.first"
   ]
  },
  {
   "cell_type": "code",
   "execution_count": 16,
   "id": "c0a80623-3302-404c-8dbf-fa3275f82de3",
   "metadata": {},
   "outputs": [
    {
     "data": {
      "text/plain": [
       "6"
      ]
     },
     "execution_count": 16,
     "metadata": {},
     "output_type": "execute_result"
    }
   ],
   "source": [
    "a.first"
   ]
  },
  {
   "cell_type": "code",
   "execution_count": 19,
   "id": "8e2073f6-2e15-4730-a236-51f07bd6185d",
   "metadata": {},
   "outputs": [
    {
     "data": {
      "text/plain": [
       "<__main__.FourCal at 0x2be75c943a0>"
      ]
     },
     "execution_count": 19,
     "metadata": {},
     "output_type": "execute_result"
    }
   ],
   "source": [
    "a"
   ]
  },
  {
   "cell_type": "code",
   "execution_count": 21,
   "id": "6e3988c3-4f40-41ba-ad59-489c73ef699d",
   "metadata": {},
   "outputs": [],
   "source": [
    "a.setdata(4,8)"
   ]
  },
  {
   "cell_type": "code",
   "execution_count": 22,
   "id": "f0d4810b-4e6c-460f-9764-f5ce2c554291",
   "metadata": {},
   "outputs": [
    {
     "data": {
      "text/plain": [
       "4"
      ]
     },
     "execution_count": 22,
     "metadata": {},
     "output_type": "execute_result"
    }
   ],
   "source": [
    "a.first"
   ]
  },
  {
   "cell_type": "code",
   "execution_count": 24,
   "id": "08e11350-9019-4536-a728-084266784334",
   "metadata": {},
   "outputs": [],
   "source": [
    "result = a.add()"
   ]
  },
  {
   "cell_type": "code",
   "execution_count": 25,
   "id": "8cd60e57-081c-447b-bf2b-fd5e08ef0d94",
   "metadata": {},
   "outputs": [
    {
     "data": {
      "text/plain": [
       "12"
      ]
     },
     "execution_count": 25,
     "metadata": {},
     "output_type": "execute_result"
    }
   ],
   "source": [
    "result"
   ]
  },
  {
   "cell_type": "code",
   "execution_count": 27,
   "id": "dcd9fdde-e054-46d4-8ca6-7502dbe4c765",
   "metadata": {},
   "outputs": [
    {
     "ename": "AttributeError",
     "evalue": "'FourCal' object has no attribute 'result'",
     "output_type": "error",
     "traceback": [
      "\u001b[1;31m---------------------------------------------------------------------------\u001b[0m",
      "\u001b[1;31mAttributeError\u001b[0m                            Traceback (most recent call last)",
      "Input \u001b[1;32mIn [27]\u001b[0m, in \u001b[0;36m<cell line: 1>\u001b[1;34m()\u001b[0m\n\u001b[1;32m----> 1\u001b[0m \u001b[43ma\u001b[49m\u001b[38;5;241;43m.\u001b[39;49m\u001b[43mresult\u001b[49m\n",
      "\u001b[1;31mAttributeError\u001b[0m: 'FourCal' object has no attribute 'result'"
     ]
    }
   ],
   "source": [
    "a.result"
   ]
  },
  {
   "cell_type": "code",
   "execution_count": 33,
   "id": "7bddcbb9-938f-4d05-8de9-74c1e5abe831",
   "metadata": {},
   "outputs": [],
   "source": [
    "class FourCal:\n",
    "    def setdata(self,first,second):\n",
    "        self.first = first\n",
    "        self.second = second\n",
    "        \n",
    "    def add(self):\n",
    "        result = self.first + self.second\n",
    "        return result\n",
    "    \n",
    "    def __init__(self,first=0,second=0):\n",
    "        self.first = first\n",
    "        self.second = second"
   ]
  },
  {
   "cell_type": "code",
   "execution_count": 30,
   "id": "c14d0ce3-ba63-4c70-9d70-d67318fbeb01",
   "metadata": {},
   "outputs": [],
   "source": [
    "a = FourCal(0,0)"
   ]
  },
  {
   "cell_type": "code",
   "execution_count": 31,
   "id": "33e15a55-9a1d-4028-909b-1e6596d67763",
   "metadata": {},
   "outputs": [
    {
     "data": {
      "text/plain": [
       "0"
      ]
     },
     "execution_count": 31,
     "metadata": {},
     "output_type": "execute_result"
    }
   ],
   "source": [
    "a.first"
   ]
  },
  {
   "cell_type": "code",
   "execution_count": 32,
   "id": "89f0de23-e7be-43e9-b1e1-3bc942fb8871",
   "metadata": {},
   "outputs": [
    {
     "data": {
      "text/plain": [
       "0"
      ]
     },
     "execution_count": 32,
     "metadata": {},
     "output_type": "execute_result"
    }
   ],
   "source": [
    "a.second"
   ]
  },
  {
   "cell_type": "code",
   "execution_count": 34,
   "id": "23966a85-f30f-4895-9489-00a45684578f",
   "metadata": {},
   "outputs": [],
   "source": [
    "b = FourCal()"
   ]
  },
  {
   "cell_type": "code",
   "execution_count": 35,
   "id": "db61078f-04cb-4084-bb9e-a0d9997c7e34",
   "metadata": {},
   "outputs": [
    {
     "data": {
      "text/plain": [
       "0"
      ]
     },
     "execution_count": 35,
     "metadata": {},
     "output_type": "execute_result"
    }
   ],
   "source": [
    "b.first"
   ]
  },
  {
   "cell_type": "code",
   "execution_count": 36,
   "id": "3e673348-54e7-4e3d-8b2e-a7d138785b74",
   "metadata": {},
   "outputs": [],
   "source": [
    "c = FourCal(5)"
   ]
  },
  {
   "cell_type": "code",
   "execution_count": 37,
   "id": "81c92ba4-19da-488a-9186-4e43ac955efb",
   "metadata": {},
   "outputs": [
    {
     "data": {
      "text/plain": [
       "5"
      ]
     },
     "execution_count": 37,
     "metadata": {},
     "output_type": "execute_result"
    }
   ],
   "source": [
    "c.first"
   ]
  },
  {
   "cell_type": "code",
   "execution_count": 38,
   "id": "33c423dc-292e-4caf-bb52-c22e7bb859c7",
   "metadata": {},
   "outputs": [
    {
     "data": {
      "text/plain": [
       "0"
      ]
     },
     "execution_count": 38,
     "metadata": {},
     "output_type": "execute_result"
    }
   ],
   "source": [
    "c.second"
   ]
  },
  {
   "cell_type": "code",
   "execution_count": 39,
   "id": "11671cac-bf47-47c0-a8be-97fb098bb20b",
   "metadata": {},
   "outputs": [],
   "source": [
    "d = FourCal(second=7)"
   ]
  },
  {
   "cell_type": "code",
   "execution_count": 40,
   "id": "026caffd-8313-42de-8fd4-e81871dac364",
   "metadata": {},
   "outputs": [
    {
     "data": {
      "text/plain": [
       "0"
      ]
     },
     "execution_count": 40,
     "metadata": {},
     "output_type": "execute_result"
    }
   ],
   "source": [
    "d.first"
   ]
  },
  {
   "cell_type": "code",
   "execution_count": 41,
   "id": "d66946f7-6932-433e-b775-d3de1817fe1a",
   "metadata": {},
   "outputs": [
    {
     "data": {
      "text/plain": [
       "7"
      ]
     },
     "execution_count": 41,
     "metadata": {},
     "output_type": "execute_result"
    }
   ],
   "source": [
    "d.second"
   ]
  },
  {
   "cell_type": "code",
   "execution_count": 44,
   "id": "2da15d36-7ee2-4a19-9e97-1a5076446f58",
   "metadata": {},
   "outputs": [],
   "source": [
    "class PrintFourCal:\n",
    "    def data_print(self):\n",
    "        print('data')\n",
    "\n",
    "class MoreFourCal(FourCal,PrintFourCal):\n",
    "    pass"
   ]
  },
  {
   "cell_type": "code",
   "execution_count": 46,
   "id": "92b4483c-b767-4973-ab99-7991ef8d6d2d",
   "metadata": {},
   "outputs": [],
   "source": [
    "call = MoreFourCal()"
   ]
  },
  {
   "cell_type": "code",
   "execution_count": 47,
   "id": "4effee7f-45aa-432c-96c6-794c0e2a2536",
   "metadata": {},
   "outputs": [
    {
     "data": {
      "text/plain": [
       "0"
      ]
     },
     "execution_count": 47,
     "metadata": {},
     "output_type": "execute_result"
    }
   ],
   "source": [
    "call.first"
   ]
  },
  {
   "cell_type": "code",
   "execution_count": 48,
   "id": "73b10dab-c481-4b01-b079-4c513771a56b",
   "metadata": {},
   "outputs": [
    {
     "data": {
      "text/plain": [
       "0"
      ]
     },
     "execution_count": 48,
     "metadata": {},
     "output_type": "execute_result"
    }
   ],
   "source": [
    "call.second"
   ]
  },
  {
   "cell_type": "code",
   "execution_count": 49,
   "id": "021fa88b-442a-46be-9e51-5b7592dae389",
   "metadata": {},
   "outputs": [
    {
     "name": "stdout",
     "output_type": "stream",
     "text": [
      "data\n"
     ]
    }
   ],
   "source": [
    "call.data_print()"
   ]
  },
  {
   "cell_type": "code",
   "execution_count": 63,
   "id": "ececccab-a179-4463-93f2-bd6884cc0e96",
   "metadata": {},
   "outputs": [],
   "source": [
    "class OverCal(FourCal):\n",
    "    lastname = '김'\n",
    "    def add(self,first=9,second=9):\n",
    "        print('add')\n",
    "        self.first= first\n",
    "        self.second = second\n",
    "        return self.first+self.second        "
   ]
  },
  {
   "cell_type": "code",
   "execution_count": 64,
   "id": "8a5ebb69-cb32-4d5a-baf3-1ced3394fb8e",
   "metadata": {},
   "outputs": [],
   "source": [
    "c = OverCal()"
   ]
  },
  {
   "cell_type": "code",
   "execution_count": 65,
   "id": "65aef699-3874-40bc-81a3-114803f0cbf3",
   "metadata": {},
   "outputs": [
    {
     "name": "stdout",
     "output_type": "stream",
     "text": [
      "add\n"
     ]
    },
    {
     "data": {
      "text/plain": [
       "18"
      ]
     },
     "execution_count": 65,
     "metadata": {},
     "output_type": "execute_result"
    }
   ],
   "source": [
    "c.add()"
   ]
  },
  {
   "cell_type": "code",
   "execution_count": 66,
   "id": "9b4540a2-ac7a-4905-801a-f646b73435d0",
   "metadata": {},
   "outputs": [
    {
     "data": {
      "text/plain": [
       "'김'"
      ]
     },
     "execution_count": 66,
     "metadata": {},
     "output_type": "execute_result"
    }
   ],
   "source": [
    "OverCal.lastname"
   ]
  },
  {
   "cell_type": "code",
   "execution_count": 67,
   "id": "dbb7dee7-d4c0-4cc5-9d17-e4cd71082a24",
   "metadata": {},
   "outputs": [
    {
     "data": {
      "text/plain": [
       "'김'"
      ]
     },
     "execution_count": 67,
     "metadata": {},
     "output_type": "execute_result"
    }
   ],
   "source": [
    "c.lastname"
   ]
  },
  {
   "cell_type": "code",
   "execution_count": 68,
   "id": "2ef2d16b-5611-4130-98c9-ad2bcd404951",
   "metadata": {},
   "outputs": [],
   "source": [
    "c1 = OverCal()"
   ]
  },
  {
   "cell_type": "code",
   "execution_count": 69,
   "id": "853daa5a-4728-42bb-8c9d-d12437d89453",
   "metadata": {},
   "outputs": [
    {
     "data": {
      "text/plain": [
       "'김'"
      ]
     },
     "execution_count": 69,
     "metadata": {},
     "output_type": "execute_result"
    }
   ],
   "source": [
    "c1.lastname"
   ]
  },
  {
   "cell_type": "code",
   "execution_count": 70,
   "id": "4558d0c3-0441-4cfe-b279-3d020efc8b18",
   "metadata": {},
   "outputs": [],
   "source": [
    "OverCal.lastname='박'"
   ]
  },
  {
   "cell_type": "code",
   "execution_count": 71,
   "id": "057ab93d-c57a-46ae-9bf8-5c5fc576e1b9",
   "metadata": {},
   "outputs": [
    {
     "data": {
      "text/plain": [
       "'박'"
      ]
     },
     "execution_count": 71,
     "metadata": {},
     "output_type": "execute_result"
    }
   ],
   "source": [
    "c1.lastname"
   ]
  },
  {
   "cell_type": "code",
   "execution_count": 72,
   "id": "0407eae6-3ea2-46e2-8582-c6d8962c327d",
   "metadata": {},
   "outputs": [
    {
     "data": {
      "text/plain": [
       "'박'"
      ]
     },
     "execution_count": 72,
     "metadata": {},
     "output_type": "execute_result"
    }
   ],
   "source": [
    "c.lastname"
   ]
  },
  {
   "cell_type": "code",
   "execution_count": 73,
   "id": "0dac8075-1a67-4dc8-86eb-97e727029e72",
   "metadata": {},
   "outputs": [
    {
     "data": {
      "text/plain": [
       "3016941791600"
      ]
     },
     "execution_count": 73,
     "metadata": {},
     "output_type": "execute_result"
    }
   ],
   "source": [
    "a=3\n",
    "id(3)"
   ]
  },
  {
   "cell_type": "code",
   "execution_count": 74,
   "id": "94637435-d4d0-4cd6-965c-72d995f82eda",
   "metadata": {},
   "outputs": [
    {
     "data": {
      "text/plain": [
       "3016941791600"
      ]
     },
     "execution_count": 74,
     "metadata": {},
     "output_type": "execute_result"
    }
   ],
   "source": [
    "id(a)"
   ]
  },
  {
   "cell_type": "code",
   "execution_count": null,
   "id": "ba38beab-36bc-4fb2-a3cb-5101c12b026b",
   "metadata": {},
   "outputs": [],
   "source": []
  }
 ],
 "metadata": {
  "kernelspec": {
   "display_name": "Python 3 (ipykernel)",
   "language": "python",
   "name": "python3"
  },
  "language_info": {
   "codemirror_mode": {
    "name": "ipython",
    "version": 3
   },
   "file_extension": ".py",
   "mimetype": "text/x-python",
   "name": "python",
   "nbconvert_exporter": "python",
   "pygments_lexer": "ipython3",
   "version": "3.9.12"
  }
 },
 "nbformat": 4,
 "nbformat_minor": 5
}
